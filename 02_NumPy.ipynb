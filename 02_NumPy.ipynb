{
 "cells": [
  {
   "cell_type": "code",
   "execution_count": 1,
   "metadata": {},
   "outputs": [],
   "source": [
    "import numpy as np"
   ]
  },
  {
   "cell_type": "markdown",
   "metadata": {},
   "source": [
    "# Matrices simples"
   ]
  },
  {
   "cell_type": "code",
   "execution_count": null,
   "metadata": {},
   "outputs": [],
   "source": [
    "# Déclaration d'une matrice\n",
    "A = np.array([[1, 2], [3, 4], [5, 6]], dtype=np.int16)\n",
    "# Le paramètre dtype est facultatif. Il permet de préciser le type de donnée.\n",
    "# Ce paramètre est valable pour tous les constructeurs\n",
    "# Le type peut être int8, int16, int32, int64, uint8, ..., float8, float64, etc. (cf. documentation)\n",
    "A"
   ]
  },
  {
   "cell_type": "code",
   "execution_count": null,
   "metadata": {},
   "outputs": [],
   "source": [
    "# Taille de la matrice\n",
    "A.shape"
   ]
  },
  {
   "cell_type": "code",
   "execution_count": null,
   "metadata": {},
   "outputs": [],
   "source": [
    "# Transposée d'une matrice\n",
    "A.T"
   ]
  },
  {
   "cell_type": "code",
   "execution_count": null,
   "metadata": {},
   "outputs": [],
   "source": [
    "# Matrice remplie de 1 ou de 0\n",
    "B = np.ones((2, 3))\n",
    "B = np.zeros((2, 3))\n",
    "B"
   ]
  },
  {
   "cell_type": "code",
   "execution_count": null,
   "metadata": {},
   "outputs": [],
   "source": [
    "# Valeurs aléatoires\n",
    "np.random.seed(5543)    # Si cette ligne est précisée, les valeurs aléatoires sont tjs les mêmes\n",
    "B = np.random.randn(2,3)   # Génération aléatoire selon une loi normal. Il existe d'autres générateurs\n",
    "B\n"
   ]
  },
  {
   "cell_type": "code",
   "execution_count": null,
   "metadata": {},
   "outputs": [],
   "source": [
    "# Valeurs réparties\n",
    "B = np.linspace(0, 10, 20)   # Génère 20 valeurs de 0 à 10 uniformément réparties\n",
    "print(B)\n",
    "B = np.arange(0, 10, 2)   # Génère des valeurs de 0 à 10 avec un pas de 2\n",
    "print(B)"
   ]
  },
  {
   "cell_type": "code",
   "execution_count": 51,
   "metadata": {},
   "outputs": [
    {
     "data": {
      "text/plain": [
       "array([[ 0.35979228,  0.06178958,  1.27200651, -0.02664759],\n",
       "       [ 1.02949056,  0.99887415, -0.02459463, -2.83833197],\n",
       "       [-2.21973886,  0.38906052, -1.19012987,  0.73592745],\n",
       "       [ 0.2120802 ,  0.70635418, -1.06921109,  0.56394508],\n",
       "       [ 1.08135278,  1.86749699, -0.8421386 , -0.70782023]])"
      ]
     },
     "execution_count": 51,
     "metadata": {},
     "output_type": "execute_result"
    }
   ],
   "source": [
    "# Broadcasting\n",
    "A = np.random.randn(5,4)\n",
    "B = np.random.randn(5,4)\n",
    "C = np.random.randn(5,1)\n",
    "A + B    # Ajoute les tableaux A & B\n",
    "A + 3    # Ajoute 3 à toutes les valeurs de A\n",
    "A + C    # Ajoute le vecteur C à toutes les colonnes de A\n",
    "         # C'est ça le broadcasting\n",
    "         # Le vecteur C est étendu pour correspondre aux dim de A\n",
    "         # Cela fonctionne uniquement car une des 2 dim correspond & l'autre vaut 1\n"
   ]
  },
  {
   "cell_type": "markdown",
   "metadata": {},
   "source": [
    "# Manipulation sur les tableaux"
   ]
  },
  {
   "cell_type": "code",
   "execution_count": 3,
   "metadata": {},
   "outputs": [],
   "source": [
    "A = np.ones((2,2))\n",
    "B = np.zeros((2,2))"
   ]
  },
  {
   "cell_type": "code",
   "execution_count": null,
   "metadata": {},
   "outputs": [],
   "source": [
    "# Concatenation de tableaux\n",
    "#============================\n",
    "# Concaténation horizontale\n",
    "C = np.hstack((A, B))\n",
    "print(C)\n",
    "# Concaténation verticale\n",
    "C = np.vstack((A, B))\n",
    "print(C)\n",
    "# Concaténation générique selon un axe donné. Utile pour des dimensions >2\n",
    "C = np.concatenate((A, B), axis=1)\n",
    "print(C)"
   ]
  },
  {
   "cell_type": "code",
   "execution_count": null,
   "metadata": {},
   "outputs": [],
   "source": [
    "# Re formate un tableau\n",
    "D = C.reshape((4,2))    # Le nombre d'éléments avant et après formattage doit être identique\n",
    "print(D)\n",
    "# Squeeze = Supprimes les dimensions = 1\n",
    "A = np.ones((5,1))\n",
    "print(np.squeeze(A).shape)\n",
    "# Ravel:Applati un tableau\n",
    "print(D.ravel())"
   ]
  },
  {
   "cell_type": "code",
   "execution_count": null,
   "metadata": {},
   "outputs": [],
   "source": [
    "# Produit matriciel\n",
    "C = B.dot(A)\n",
    "C"
   ]
  },
  {
   "cell_type": "code",
   "execution_count": 26,
   "metadata": {},
   "outputs": [
    {
     "name": "stdout",
     "output_type": "stream",
     "text": [
      "[[ 0  1  2  3  4  5  6  7  8  9]\n",
      " [10 11 12 13 14 15 16 17 18 19]\n",
      " [20 21 22 23 24 25 26 27 28 29]\n",
      " [30 31 32 33 34 35 36 37 38 39]\n",
      " [40 41 42 43 44 45 46 47 48 49]\n",
      " [50 51 52 53 54 55 56 57 58 59]]\n",
      "[[ 1.  0.  1.  0.  1.]\n",
      " [ 0.  0.  0.  0.  0.]\n",
      " [ 1.  0.  1.  0.  1.]\n",
      " [ 0.  0.  0.  0.  0.]\n",
      " [ 1.  0.  1.  0.  1.]]\n"
     ]
    }
   ],
   "source": [
    "# Slicing\n",
    "#========\n",
    "A = np.ones((6,10))\n",
    "A = np.array([i for i in range(60)]).reshape((6, 10))\n",
    "\n",
    "print(A)\n",
    "A[:,0]    # Tous les éléments de la première colonne\n",
    "A[2:4,5]  # Les lignes 2 à 4 (4 exclue) de la 6è colonne (index 5)\n",
    "A[:3,5]   # Les premières lignes de la colonne 5\n",
    "A[3:,5]   # De la 3e ligne à la dernière de la 5è colonne\n",
    "A[3:,5:7] # De la 3e ligne à la dernière des colonnes 5 à 7 (7e exclue)\n",
    "A[1:-1,:] # De la colonne 1 à la dernière exclue\n",
    "A[1:-2:2,:]  # De la colonne 1 à l'avant-avant-dernière colonne (exclue), 1 valeur sur 2\n",
    "\n",
    "# Note: on peut modifier certaines valeurs précises avec ces notations\n",
    "A[0,:] = 99   # La première colonne est entièrement mise à 99\n",
    "B = np.zeros((5, 5))\n",
    "B[::2,::2] = 1\n",
    "print(B)"
   ]
  },
  {
   "cell_type": "code",
   "execution_count": 30,
   "metadata": {},
   "outputs": [
    {
     "name": "stdout",
     "output_type": "stream",
     "text": [
      "[[ True  True False False  True]\n",
      " [False False False  True False]\n",
      " [False  True  True False  True]\n",
      " [ True False False  True False]\n",
      " [False  True  True  True  True]]\n",
      "[[0 0 9 8 0]\n",
      " [6 6 7 0 6]\n",
      " [8 0 0 8 0]\n",
      " [0 7 6 0 5]\n",
      " [8 0 0 0 0]]\n"
     ]
    }
   ],
   "source": [
    "# Boolean indexing\n",
    "A = np.random.randint(0, 10, [5, 5])\n",
    "# Faire une opération de comparaison sur cette matrice donne une matrice de dim équivalente mais \n",
    "# contenant des boolééens selon le résultat de la comparaison\n",
    "print(A < 5)\n",
    "\n",
    "# On peut ensuite réinjecter ce résultat pour accéder seulement certaines valeurs de la matrice\n",
    "A[A<5] = 0    # Force à 0 toutes les valeurs de la matrice qui sont <5\n",
    "print(A)"
   ]
  },
  {
   "cell_type": "markdown",
   "metadata": {},
   "source": [
    "# Fonctions mathématiques"
   ]
  },
  {
   "cell_type": "markdown",
   "metadata": {},
   "source": [
    "## Méthodes de la classe NDarray"
   ]
  },
  {
   "cell_type": "code",
   "execution_count": 37,
   "metadata": {},
   "outputs": [
    {
     "data": {
      "text/plain": [
       "array([[ 0.84147098,  0.90929743,  0.98935825],\n",
       "       [ 0.90929743, -0.95892427,  0.98935825],\n",
       "       [ 0.14112001, -0.2794155 , -0.2794155 ],\n",
       "       [-0.2794155 ,  0.98935825,  0.98935825],\n",
       "       [ 0.14112001, -0.95892427, -0.95892427]])"
      ]
     },
     "execution_count": 37,
     "metadata": {},
     "output_type": "execute_result"
    }
   ],
   "source": [
    "A = np.random.randint(0, 10, [5, 3])\n",
    "A.sum()         # La somme de tous les éléments du tableau\n",
    "A.sum(axis=0)   # La somme de tous les éléments du tableau selon l'axe 0 (la somme de toutes les colonnes)\n",
    "A.cumsum()      # Somme cumulée (argument axis disponible)\n",
    "A.prod()        # Le produit de tous les éléments du tableau (argument axis disponible)\n",
    "A.cumprod()     # Produit cumulé\n",
    "A.min()         # La valeur mini du tableau\n",
    "A.max()         # La valeur max\n",
    "A.mean()        # La valeur moyenne\n",
    "A.std()         # Ecart type\n",
    "A.var()         # Variance\n",
    "A.argmin()      # Retourne la position de la valeur mini\n",
    "A.argmax()      # Retourne la position de la valeur maxi\n",
    "A.sort()        # Trie le tableau\n",
    "A.argsort()     # Donnes les position dans l'ordre pour trier le tableau\n",
    "\n",
    "# Lib mathématique\n",
    "np.exp(A)\n",
    "np.sin(A)\n",
    "# Les méthodes pour réaliser des fonction mathématiques ne sont pas des méthodes membres de la classe\n",
    "# NDarray. Il faut les appeler comme cela.\n"
   ]
  },
  {
   "cell_type": "markdown",
   "metadata": {},
   "source": [
    "## Routines\n",
    "Beaucoup de fonctions permettant des calculs mathématiques ou statistiques ne sont pas des méthodes de la classe NDarray mais sont intégrées en tant que _routines_ dans le module NumPy.\n",
    "Ces fonctions s'appellent comme suit:\n",
    "```np.<fonction>(<tableau>)```\n",
    "### Mathématiques\n",
    "cf. doc officielle https://numpy.org/doc/stable/reference/routines.math.html"
   ]
  },
  {
   "cell_type": "code",
   "execution_count": null,
   "metadata": {},
   "outputs": [],
   "source": [
    "np.exp(A)\n",
    "np.sin(A)\n",
    "# etc."
   ]
  },
  {
   "cell_type": "markdown",
   "metadata": {},
   "source": [
    "### Statistiques\n",
    "cf. doc officielle https://numpy.org/doc/stable/reference/routines.statistics.html"
   ]
  },
  {
   "cell_type": "code",
   "execution_count": 43,
   "metadata": {},
   "outputs": [
    {
     "data": {
      "text/plain": [
       "array([[False, False, False, False, False],\n",
       "       [False, False, False, False, False],\n",
       "       [False, False, False, False, False],\n",
       "       [False, False, False, False, False],\n",
       "       [False, False, False, False, False]], dtype=bool)"
      ]
     },
     "execution_count": 43,
     "metadata": {},
     "output_type": "execute_result"
    }
   ],
   "source": [
    "A = np.random.randint(0, 10, [5, 5])\n",
    "np.corrcoef(A)    # Coeff de corrélation\n",
    "np.unique(A, return_counts=True)   # Liste des éléments uniques contenus dans le tableau avec leur frequence\n",
    "values, counts = np.unique(A, return_counts=True)\n",
    "values[counts.argsort()]   # La liste des valeurs de la matrice triée par fréquence d'apparition croissante\n",
    "\n",
    "np.median(A)    # Valeur mediane\n",
    "np.nanmean(A)   # Valeur moyenne mais en ignorant les valeur NaN\n",
    "# la version NaN existe pour min, max, median, var, std, etc.\n",
    "np.isnan(A)     # Renvoie un masque qui indique les valeurs NaN\n",
    "\n",
    "# etc."
   ]
  },
  {
   "cell_type": "code",
   "execution_count": null,
   "metadata": {},
   "outputs": [],
   "source": []
  }
 ],
 "metadata": {
  "kernelspec": {
   "display_name": "Python 3",
   "language": "python",
   "name": "python3"
  },
  "language_info": {
   "codemirror_mode": {
    "name": "ipython",
    "version": 3
   },
   "file_extension": ".py",
   "mimetype": "text/x-python",
   "name": "python",
   "nbconvert_exporter": "python",
   "pygments_lexer": "ipython3",
   "version": "3.6.9"
  }
 },
 "nbformat": 4,
 "nbformat_minor": 2
}
