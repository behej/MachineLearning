{
 "cells": [
  {
   "cell_type": "markdown",
   "metadata": {},
   "source": [
    "# Intro\n",
    "Ce classeur est une copie du classeur LinearRegression dans lequel on adapte notre modèle pour fonctionner avec des modèles d'ordre supérieurs.\n",
    "Le but est de montrer que la méthodologie et les fonctions mises en oeuvres sont identiques et que seules les données manipulées changent"
   ]
  },
  {
   "cell_type": "code",
   "execution_count": 1,
   "metadata": {},
   "outputs": [],
   "source": [
    "import numpy as np\n",
    "from sklearn.datasets import make_regression\n",
    "import matplotlib.pyplot as plt"
   ]
  },
  {
   "cell_type": "markdown",
   "metadata": {},
   "source": [
    "# Polynome d'ordre 2\n",
    "## 1. Dataset"
   ]
  },
  {
   "cell_type": "code",
   "execution_count": 2,
   "metadata": {},
   "outputs": [
    {
     "data": {
      "text/plain": [
       "<matplotlib.collections.PathCollection at 0x7f57f59e4ef0>"
      ]
     },
     "execution_count": 2,
     "metadata": {},
     "output_type": "execute_result"
    },
    {
     "data": {
      "image/png": "[encoded data removed]",
      "text/plain": [
       "<Figure size 432x288 with 1 Axes>"
      ]
     },
     "metadata": {},
     "output_type": "display_data"
    }
   ],
   "source": [
    "x, y = make_regression(n_samples=100, n_features=1, noise=10)\n",
    "y = y + abs(y/2)   # On modifie les y générés pour qu'il ait une allure de fonction polynomiale\n",
    "plt.scatter(x, y)"
   ]
  },
  {
   "cell_type": "code",
   "execution_count": 3,
   "metadata": {},
   "outputs": [
    {
     "name": "stdout",
     "output_type": "stream",
     "text": [
      "(100, 1)\n",
      "(100,)\n",
      "(100, 1)\n"
     ]
    }
   ],
   "source": [
    "print(x.shape)\n",
    "print(y.shape)\n",
    "y = y.reshape(y.shape[0], 1)   # Besoin de redimensionner le vecteur y. C'est lié à la méthode make_regression\n",
    "print(y.shape)"
   ]
  },
  {
   "cell_type": "code",
   "execution_count": 4,
   "metadata": {},
   "outputs": [
    {
     "name": "stdout",
     "output_type": "stream",
     "text": [
      "(100, 3)\n"
     ]
    }
   ],
   "source": [
    "# Matrice X\n",
    "X = np.hstack((x, np.ones(x.shape)))   # On rajoute la colonne de biais\n",
    "X = np.hstack((x**2, X))    # X prend alors 3 colonnes : x², x et 1\n",
    "print(X.shape)"
   ]
  },
  {
   "cell_type": "code",
   "execution_count": 5,
   "metadata": {},
   "outputs": [
    {
     "name": "stdout",
     "output_type": "stream",
     "text": [
      "[[ 1.67626053]\n",
      " [-0.12568279]\n",
      " [-0.23879691]]\n"
     ]
    }
   ],
   "source": [
    "# Vecteur theta\n",
    "theta = np.random.randn(3, 1)    # Theta a maintenant 3 coefficients : a, b et c pour une équation de la forme ax²+bx+c\n",
    "print(theta)"
   ]
  },
  {
   "cell_type": "markdown",
   "metadata": {},
   "source": [
    "## 2. Modèle"
   ]
  },
  {
   "cell_type": "code",
   "execution_count": 6,
   "metadata": {},
   "outputs": [],
   "source": [
    "def model(X, theta):\n",
    "    return X.dot(theta)"
   ]
  },
  {
   "cell_type": "code",
   "execution_count": 7,
   "metadata": {},
   "outputs": [
    {
     "data": {
      "text/plain": [
       "<matplotlib.collections.PathCollection at 0x7f57f58dfcc0>"
      ]
     },
     "execution_count": 7,
     "metadata": {},
     "output_type": "execute_result"
    },
    {
     "data": {
      "image/png": "[encoded data removed]",
      "text/plain": [
       "<Figure size 432x288 with 1 Axes>"
      ]
     },
     "metadata": {},
     "output_type": "display_data"
    }
   ],
   "source": [
    "model(X, theta)\n",
    "plt.plot(x, model(X, theta), c='r')\n",
    "plt.scatter(x, y)"
   ]
  },
  {
   "cell_type": "markdown",
   "metadata": {},
   "source": [
    "## 3. Fonction coût"
   ]
  },
  {
   "cell_type": "code",
   "execution_count": 8,
   "metadata": {},
   "outputs": [],
   "source": [
    "def cost_function(X, y, theta):\n",
    "    m = len(y)\n",
    "    return 1/(2*m) * np.sum((model(X, theta) - y)**2)"
   ]
  },
  {
   "cell_type": "code",
   "execution_count": 9,
   "metadata": {},
   "outputs": [
    {
     "data": {
      "text/plain": [
       "1987.6095090085091"
      ]
     },
     "execution_count": 9,
     "metadata": {},
     "output_type": "execute_result"
    }
   ],
   "source": [
    "cost_function(X, y, theta)"
   ]
  },
  {
   "cell_type": "markdown",
   "metadata": {},
   "source": [
    "## Descente de gradient"
   ]
  },
  {
   "cell_type": "code",
   "execution_count": 10,
   "metadata": {},
   "outputs": [],
   "source": [
    "def grad(X, y, theta):\n",
    "    m = len(y)\n",
    "    return 1/m * X.T.dot(model(X, theta) - y)"
   ]
  },
  {
   "cell_type": "code",
   "execution_count": 11,
   "metadata": {},
   "outputs": [],
   "source": [
    "def gradient_descent(X, y, theta, learning_rate, n_iterations):\n",
    "    cost_history = np.zeros(n_iterations)\n",
    "    for i in range(0, n_iterations):\n",
    "        theta = theta - learning_rate * grad(X, y, theta)\n",
    "        cost_history[i] = cost_function(X, y, theta)\n",
    "    return theta, cost_history"
   ]
  },
  {
   "cell_type": "markdown",
   "metadata": {},
   "source": [
    "## Entrainement du modèle"
   ]
  },
  {
   "cell_type": "code",
   "execution_count": 12,
   "metadata": {},
   "outputs": [
    {
     "name": "stdout",
     "output_type": "stream",
     "text": [
      "[[13.09278789]\n",
      " [53.60195076]\n",
      " [ 8.0472491 ]]\n"
     ]
    }
   ],
   "source": [
    "theta_final, cost_history = gradient_descent(X, y, theta, learning_rate=0.01, n_iterations=1000)\n",
    "print(theta_final)"
   ]
  },
  {
   "cell_type": "code",
   "execution_count": 13,
   "metadata": {},
   "outputs": [
    {
     "data": {
      "text/plain": [
       "<matplotlib.collections.PathCollection at 0x7f57f58b80f0>"
      ]
     },
     "execution_count": 13,
     "metadata": {},
     "output_type": "execute_result"
    },
    {
     "data": {
      "image/png": "[encoded data removed]",
      "text/plain": [
       "<Figure size 432x288 with 1 Axes>"
      ]
     },
     "metadata": {},
     "output_type": "display_data"
    }
   ],
   "source": [
    "predictions = model(X, theta_final)\n",
    "plt.scatter(x, y)\n",
    "plt.scatter(x[:,0], predictions, c='r')"
   ]
  },
  {
   "cell_type": "markdown",
   "metadata": {},
   "source": [
    "## Learning curve"
   ]
  },
  {
   "cell_type": "code",
   "execution_count": 14,
   "metadata": {},
   "outputs": [
    {
     "data": {
      "text/plain": [
       "[<matplotlib.lines.Line2D at 0x7f57f5840ba8>]"
      ]
     },
     "execution_count": 14,
     "metadata": {},
     "output_type": "execute_result"
    },
    {
     "data": {
      "image/png": "[encoded data removed]",
      "text/plain": [
       "<Figure size 432x288 with 1 Axes>"
      ]
     },
     "metadata": {},
     "output_type": "display_data"
    }
   ],
   "source": [
    "plt.plot(cost_history)"
   ]
  },
  {
   "cell_type": "markdown",
   "metadata": {},
   "source": [
    "\n",
    "## Coefficient de determination\n",
    "Permet de déterminer la performance du modèle\n",
    "$$\n",
    "R^2 = 1 - \\frac {\\sum (y - f(x))^2}{\\sum (y - \\bar{y})^2}\n",
    "$$"
   ]
  },
  {
   "cell_type": "code",
   "execution_count": 15,
   "metadata": {},
   "outputs": [],
   "source": [
    "def coeff_determination(y, pred):\n",
    "    u = ((y - pred)**2).sum()\n",
    "    v = ((y - y.mean())**2).sum()\n",
    "    return (1 - u/v)"
   ]
  },
  {
   "cell_type": "code",
   "execution_count": 16,
   "metadata": {
    "scrolled": true
   },
   "outputs": [
    {
     "data": {
      "text/plain": [
       "0.9735600614171145"
      ]
     },
     "execution_count": 16,
     "metadata": {},
     "output_type": "execute_result"
    }
   ],
   "source": [
    "coeff_determination(y, predictions)"
   ]
  },
  {
   "cell_type": "markdown",
   "metadata": {},
   "source": [
    "# Dataset à 2 features"
   ]
  },
  {
   "cell_type": "markdown",
   "metadata": {},
   "source": [
    "## 1. Dataset"
   ]
  },
  {
   "cell_type": "code",
   "execution_count": 17,
   "metadata": {},
   "outputs": [
    {
     "data": {
      "text/plain": [
       "<matplotlib.collections.PathCollection at 0x7f57f581c048>"
      ]
     },
     "execution_count": 17,
     "metadata": {},
     "output_type": "execute_result"
    },
    {
     "data": {
      "image/png": "[encoded data removed]",
      "text/plain": [
       "<Figure size 432x288 with 1 Axes>"
      ]
     },
     "metadata": {},
     "output_type": "display_data"
    }
   ],
   "source": [
    "# n_features = 2 --> donc x est maintenant une matrice de 2 colonnes\n",
    "x, y = make_regression(n_samples=100, n_features=2, noise=10)\n",
    "# Comme x est une matrice, on ne peut représenter qu'une seule des 2 dimensions sur un graph 2D\n",
    "plt.scatter(x[:,0], y)"
   ]
  },
  {
   "cell_type": "code",
   "execution_count": 18,
   "metadata": {},
   "outputs": [
    {
     "name": "stdout",
     "output_type": "stream",
     "text": [
      "(100, 2)\n",
      "(100,)\n",
      "(100, 1)\n"
     ]
    }
   ],
   "source": [
    "print(x.shape)\n",
    "print(y.shape)\n",
    "y = y.reshape(y.shape[0], 1)   # Besoin de redimensionner le vecteur y. C'est lié à la méthode make_regression\n",
    "print(y.shape)"
   ]
  },
  {
   "cell_type": "code",
   "execution_count": 19,
   "metadata": {},
   "outputs": [
    {
     "name": "stdout",
     "output_type": "stream",
     "text": [
      "(100, 3)\n"
     ]
    }
   ],
   "source": [
    "# Matrice X\n",
    "X = np.hstack((x, np.ones((x.shape[0], 1))))   # On rajoute la colonne de biais.\n",
    "# On ne prend que la première dimension de x (le nombre d'éléments)\n",
    "# et on force à 1 colonne\n",
    "# Si on avait laissé x.shape, on aurait eu 2 colonnes\n",
    "print(X.shape)"
   ]
  },
  {
   "cell_type": "code",
   "execution_count": 20,
   "metadata": {},
   "outputs": [
    {
     "name": "stdout",
     "output_type": "stream",
     "text": [
      "[[-1.00546502]\n",
      " [ 0.88664792]\n",
      " [-1.12581471]]\n"
     ]
    }
   ],
   "source": [
    "# Vecteur theta\n",
    "theta = np.random.randn(3, 1)    # Theta a maintenant 3 coefficients : a, b et c pour une équation de la forme ax²+bx+c\n",
    "print(theta)"
   ]
  },
  {
   "cell_type": "markdown",
   "metadata": {},
   "source": [
    "## 2. Modèle"
   ]
  },
  {
   "cell_type": "code",
   "execution_count": 21,
   "metadata": {},
   "outputs": [],
   "source": [
    "def model(X, theta):\n",
    "    return X.dot(theta)"
   ]
  },
  {
   "cell_type": "code",
   "execution_count": 22,
   "metadata": {},
   "outputs": [
    {
     "data": {
      "text/plain": [
       "<matplotlib.collections.PathCollection at 0x7f57f5767ba8>"
      ]
     },
     "execution_count": 22,
     "metadata": {},
     "output_type": "execute_result"
    },
    {
     "data": {
      "image/png": "[encoded data removed]",
      "text/plain": [
       "<Figure size 432x288 with 1 Axes>"
      ]
     },
     "metadata": {},
     "output_type": "display_data"
    }
   ],
   "source": [
    "model(X, theta)\n",
    "plt.scatter(x[:,0], y)\n",
    "plt.scatter(x[:,0], model(X, theta), c='r')"
   ]
  },
  {
   "cell_type": "markdown",
   "metadata": {},
   "source": [
    "## 3. Fonction coût"
   ]
  },
  {
   "cell_type": "code",
   "execution_count": 23,
   "metadata": {},
   "outputs": [],
   "source": [
    "def cost_function(X, y, theta):\n",
    "    m = len(y)\n",
    "    return 1/(2*m) * np.sum((model(X, theta) - y)**2)"
   ]
  },
  {
   "cell_type": "code",
   "execution_count": 24,
   "metadata": {},
   "outputs": [
    {
     "data": {
      "text/plain": [
       "1434.5004426499333"
      ]
     },
     "execution_count": 24,
     "metadata": {},
     "output_type": "execute_result"
    }
   ],
   "source": [
    "cost_function(X, y, theta)"
   ]
  },
  {
   "cell_type": "markdown",
   "metadata": {},
   "source": [
    "## Descente de gradient"
   ]
  },
  {
   "cell_type": "code",
   "execution_count": 25,
   "metadata": {},
   "outputs": [],
   "source": [
    "def grad(X, y, theta):\n",
    "    m = len(y)\n",
    "    return 1/m * X.T.dot(model(X, theta) - y)"
   ]
  },
  {
   "cell_type": "code",
   "execution_count": 26,
   "metadata": {},
   "outputs": [],
   "source": [
    "def gradient_descent(X, y, theta, learning_rate, n_iterations):\n",
    "    cost_history = np.zeros(n_iterations)\n",
    "    for i in range(0, n_iterations):\n",
    "        theta = theta - learning_rate * grad(X, y, theta)\n",
    "        cost_history[i] = cost_function(X, y, theta)\n",
    "    return theta, cost_history"
   ]
  },
  {
   "cell_type": "markdown",
   "metadata": {},
   "source": [
    "## Entrainement du modèle"
   ]
  },
  {
   "cell_type": "code",
   "execution_count": 27,
   "metadata": {},
   "outputs": [
    {
     "name": "stdout",
     "output_type": "stream",
     "text": [
      "[[1.20162373e+01]\n",
      " [4.91830174e+01]\n",
      " [3.60658286e-02]]\n"
     ]
    }
   ],
   "source": [
    "theta_final, cost_history = gradient_descent(X, y, theta, learning_rate=0.01, n_iterations=1000)\n",
    "print(theta_final)"
   ]
  },
  {
   "cell_type": "code",
   "execution_count": 28,
   "metadata": {},
   "outputs": [
    {
     "data": {
      "text/plain": [
       "<matplotlib.collections.PathCollection at 0x7f57f574cbe0>"
      ]
     },
     "execution_count": 28,
     "metadata": {},
     "output_type": "execute_result"
    },
    {
     "data": {
      "image/png": "[encoded data removed]",
      "text/plain": [
       "<Figure size 432x288 with 1 Axes>"
      ]
     },
     "metadata": {},
     "output_type": "display_data"
    }
   ],
   "source": [
    "predictions = model(X, theta_final)\n",
    "plt.scatter(x[:,0], y)\n",
    "plt.scatter(x[:,0], predictions, c='r')"
   ]
  },
  {
   "cell_type": "markdown",
   "metadata": {},
   "source": [
    "## Learning curve"
   ]
  },
  {
   "cell_type": "code",
   "execution_count": 29,
   "metadata": {},
   "outputs": [
    {
     "data": {
      "text/plain": [
       "[<matplotlib.lines.Line2D at 0x7f57f56c1128>]"
      ]
     },
     "execution_count": 29,
     "metadata": {},
     "output_type": "execute_result"
    },
    {
     "data": {
      "image/png": "[encoded data removed]",
      "text/plain": [
       "<Figure size 432x288 with 1 Axes>"
      ]
     },
     "metadata": {},
     "output_type": "display_data"
    }
   ],
   "source": [
    "plt.plot(cost_history)"
   ]
  },
  {
   "cell_type": "markdown",
   "metadata": {},
   "source": [
    "\n",
    "## Coefficient de determination\n",
    "Permet de déterminer la performance du modèle\n",
    "$$\n",
    "R^2 = 1 - \\frac {\\sum (y - f(x))^2}{\\sum (y - \\bar{y})^2}\n",
    "$$"
   ]
  },
  {
   "cell_type": "code",
   "execution_count": 30,
   "metadata": {},
   "outputs": [],
   "source": [
    "def coeff_determination(y, pred):\n",
    "    u = ((y - pred)**2).sum()\n",
    "    v = ((y - y.mean())**2).sum()\n",
    "    return (1 - u/v)"
   ]
  },
  {
   "cell_type": "code",
   "execution_count": 31,
   "metadata": {
    "scrolled": true
   },
   "outputs": [
    {
     "data": {
      "text/plain": [
       "0.9581857956043502"
      ]
     },
     "execution_count": 31,
     "metadata": {},
     "output_type": "execute_result"
    }
   ],
   "source": [
    "coeff_determination(y, predictions)"
   ]
  },
  {
   "cell_type": "markdown",
   "metadata": {},
   "source": [
    "## Visualisation en 3D\n",
    "Un modèle à 2 features est plus simple à visualiser en 3D. Pour plus de features, cela devient difficile à représenter graphiquement."
   ]
  },
  {
   "cell_type": "code",
   "execution_count": 32,
   "metadata": {},
   "outputs": [
    {
     "data": {
      "application/javascript": [
       "/* Put everything inside the global mpl namespace */\n",
       "/* global mpl */\n",
       "window.mpl = {};\n",
       "\n",
       "mpl.get_websocket_type = function () {\n",
       "    if (typeof WebSocket !== 'undefined') {\n",
       "        return WebSocket;\n",
       "    } else if (typeof MozWebSocket !== 'undefined') {\n",
       "        return MozWebSocket;\n",
       "    } else {\n",
       "        alert(\n",
       "            'Your browser does not have WebSocket support. ' +\n",
       "                'Please try Chrome, Safari or Firefox ≥ 6. ' +\n",
       "                'Firefox 4 and 5 are also supported but you ' +\n",
       "                'have to enable WebSockets in about:config.'\n",
       "        );\n",
       "    }\n",
       "};\n",
       "\n",
       "mpl.figure = function (figure_id, websocket, ondownload, parent_element) {\n",
       "    this.id = figure_id;\n",
       "\n",
       "    this.ws = websocket;\n",
       "\n",
       "    this.supports_binary = this.ws.binaryType !== undefined;\n",
       "\n",
       "    if (!this.supports_binary) {\n",
       "        var warnings = document.getElementById('mpl-warnings');\n",
       "        if (warnings) {\n",
       "            warnings.style.display = 'block';\n",
       "            warnings.textContent =\n",
       "                'This browser does not support binary websocket messages. ' +\n",
       "                'Performance may be slow.';\n",
       "        }\n",
       "    }\n",
       "\n",
       "    this.imageObj = new Image();\n",
       "\n",
       "    this.context = undefined;\n",
       "    this.message = undefined;\n",
       "    this.canvas = undefined;\n",
       "    this.rubberband_canvas = undefined;\n",
       "    this.rubberband_context = undefined;\n",
       "    this.format_dropdown = undefined;\n",
       "\n",
       "    this.image_mode = 'full';\n",
       "\n",
       "    this.root = document.createElement('div');\n",
       "    this.root.setAttribute('style', 'display: inline-block');\n",
       "    this._root_extra_style(this.root);\n",
       "\n",
       "    parent_element.appendChild(this.root);\n",
       "\n",
       "    this._init_header(this);\n",
       "    this._init_canvas(this);\n",
       "    this._init_toolbar(this);\n",
       "\n",
       "    var fig = this;\n",
       "\n",
       "    this.waiting = false;\n",
       "\n",
       "    this.ws.onopen = function () {\n",
       "        fig.send_message('supports_binary', { value: fig.supports_binary });\n",
       "        fig.send_message('send_image_mode', {});\n",
       "        if (mpl.ratio !== 1) {\n",
       "            fig.send_message('set_dpi_ratio', { dpi_ratio: mpl.ratio });\n",
       "        }\n",
       "        fig.send_message('refresh', {});\n",
       "    };\n",
       "\n",
       "    this.imageObj.onload = function () {\n",
       "        if (fig.image_mode === 'full') {\n",
       "            // Full images could contain transparency (where diff images\n",
       "            // almost always do), so we need to clear the canvas so that\n",
       "            // there is no ghosting.\n",
       "            fig.context.clearRect(0, 0, fig.canvas.width, fig.canvas.height);\n",
       "        }\n",
       "        fig.context.drawImage(fig.imageObj, 0, 0);\n",
       "    };\n",
       "\n",
       "    this.imageObj.onunload = function () {\n",
       "        fig.ws.close();\n",
       "    };\n",
       "\n",
       "    this.ws.onmessage = this._make_on_message_function(this);\n",
       "\n",
       "    this.ondownload = ondownload;\n",
       "};\n",
       "\n",
       "mpl.figure.prototype._init_header = function () {\n",
       "    var titlebar = document.createElement('div');\n",
       "    titlebar.classList =\n",
       "        'ui-dialog-titlebar ui-widget-header ui-corner-all ui-helper-clearfix';\n",
       "    var titletext = document.createElement('div');\n",
       "    titletext.classList = 'ui-dialog-title';\n",
       "    titletext.setAttribute(\n",
       "        'style',\n",
       "        'width: 100%; text-align: center; padding: 3px;'\n",
       "    );\n",
       "    titlebar.appendChild(titletext);\n",
       "    this.root.appendChild(titlebar);\n",
       "    this.header = titletext;\n",
       "};\n",
       "\n",
       "mpl.figure.prototype._canvas_extra_style = function (_canvas_div) {};\n",
       "\n",
       "mpl.figure.prototype._root_extra_style = function (_canvas_div) {};\n",
       "\n",
       "mpl.figure.prototype._init_canvas = function () {\n",
       "    var fig = this;\n",
       "\n",
       "    var canvas_div = (this.canvas_div = document.createElement('div'));\n",
       "    canvas_div.setAttribute(\n",
       "        'style',\n",
       "        'border: 1px solid #ddd;' +\n",
       "            'box-sizing: content-box;' +\n",
       "            'clear: both;' +\n",
       "            'min-height: 1px;' +\n",
       "            'min-width: 1px;' +\n",
       "            'outline: 0;' +\n",
       "            'overflow: hidden;' +\n",
       "            'position: relative;' +\n",
       "            'resize: both;'\n",
       "    );\n",
       "\n",
       "    function on_keyboard_event_closure(name) {\n",
       "        return function (event) {\n",
       "            return fig.key_event(event, name);\n",
       "        };\n",
       "    }\n",
       "\n",
       "    canvas_div.addEventListener(\n",
       "        'keydown',\n",
       "        on_keyboard_event_closure('key_press')\n",
       "    );\n",
       "    canvas_div.addEventListener(\n",
       "        'keyup',\n",
       "        on_keyboard_event_closure('key_release')\n",
       "    );\n",
       "\n",
       "    this._canvas_extra_style(canvas_div);\n",
       "    this.root.appendChild(canvas_div);\n",
       "\n",
       "    var canvas = (this.canvas = document.createElement('canvas'));\n",
       "    canvas.classList.add('mpl-canvas');\n",
       "    canvas.setAttribute('style', 'box-sizing: content-box;');\n",
       "\n",
       "    this.context = canvas.getContext('2d');\n",
       "\n",
       "    var backingStore =\n",
       "        this.context.backingStorePixelRatio ||\n",
       "        this.context.webkitBackingStorePixelRatio ||\n",
       "        this.context.mozBackingStorePixelRatio ||\n",
       "        this.context.msBackingStorePixelRatio ||\n",
       "        this.context.oBackingStorePixelRatio ||\n",
       "        this.context.backingStorePixelRatio ||\n",
       "        1;\n",
       "\n",
       "    mpl.ratio = (window.devicePixelRatio || 1) / backingStore;\n",
       "\n",
       "    var rubberband_canvas = (this.rubberband_canvas = document.createElement(\n",
       "        'canvas'\n",
       "    ));\n",
       "    rubberband_canvas.setAttribute(\n",
       "        'style',\n",
       "        'box-sizing: content-box; position: absolute; left: 0; top: 0; z-index: 1;'\n",
       "    );\n",
       "\n",
       "    var resizeObserver = new ResizeObserver(function (entries) {\n",
       "        var nentries = entries.length;\n",
       "        for (var i = 0; i < nentries; i++) {\n",
       "            var entry = entries[i];\n",
       "            var width, height;\n",
       "            if (entry.contentBoxSize) {\n",
       "                if (entry.contentBoxSize instanceof Array) {\n",
       "                    // Chrome 84 implements new version of spec.\n",
       "                    width = entry.contentBoxSize[0].inlineSize;\n",
       "                    height = entry.contentBoxSize[0].blockSize;\n",
       "                } else {\n",
       "                    // Firefox implements old version of spec.\n",
       "                    width = entry.contentBoxSize.inlineSize;\n",
       "                    height = entry.contentBoxSize.blockSize;\n",
       "                }\n",
       "            } else {\n",
       "                // Chrome <84 implements even older version of spec.\n",
       "                width = entry.contentRect.width;\n",
       "                height = entry.contentRect.height;\n",
       "            }\n",
       "\n",
       "            // Keep the size of the canvas and rubber band canvas in sync with\n",
       "            // the canvas container.\n",
       "            if (entry.devicePixelContentBoxSize) {\n",
       "                // Chrome 84 implements new version of spec.\n",
       "                canvas.setAttribute(\n",
       "                    'width',\n",
       "                    entry.devicePixelContentBoxSize[0].inlineSize\n",
       "                );\n",
       "                canvas.setAttribute(\n",
       "                    'height',\n",
       "                    entry.devicePixelContentBoxSize[0].blockSize\n",
       "                );\n",
       "            } else {\n",
       "                canvas.setAttribute('width', width * mpl.ratio);\n",
       "                canvas.setAttribute('height', height * mpl.ratio);\n",
       "            }\n",
       "            canvas.setAttribute(\n",
       "                'style',\n",
       "                'width: ' + width + 'px; height: ' + height + 'px;'\n",
       "            );\n",
       "\n",
       "            rubberband_canvas.setAttribute('width', width);\n",
       "            rubberband_canvas.setAttribute('height', height);\n",
       "\n",
       "            // And update the size in Python. We ignore the initial 0/0 size\n",
       "            // that occurs as the element is placed into the DOM, which should\n",
       "            // otherwise not happen due to the minimum size styling.\n",
       "            if (width != 0 && height != 0) {\n",
       "                fig.request_resize(width, height);\n",
       "            }\n",
       "        }\n",
       "    });\n",
       "    resizeObserver.observe(canvas_div);\n",
       "\n",
       "    function on_mouse_event_closure(name) {\n",
       "        return function (event) {\n",
       "            return fig.mouse_event(event, name);\n",
       "        };\n",
       "    }\n",
       "\n",
       "    rubberband_canvas.addEventListener(\n",
       "        'mousedown',\n",
       "        on_mouse_event_closure('button_press')\n",
       "    );\n",
       "    rubberband_canvas.addEventListener(\n",
       "        'mouseup',\n",
       "        on_mouse_event_closure('button_release')\n",
       "    );\n",
       "    // Throttle sequential mouse events to 1 every 20ms.\n",
       "    rubberband_canvas.addEventListener(\n",
       "        'mousemove',\n",
       "        on_mouse_event_closure('motion_notify')\n",
       "    );\n",
       "\n",
       "    rubberband_canvas.addEventListener(\n",
       "        'mouseenter',\n",
       "        on_mouse_event_closure('figure_enter')\n",
       "    );\n",
       "    rubberband_canvas.addEventListener(\n",
       "        'mouseleave',\n",
       "        on_mouse_event_closure('figure_leave')\n",
       "    );\n",
       "\n",
       "    canvas_div.addEventListener('wheel', function (event) {\n",
       "        if (event.deltaY < 0) {\n",
       "            event.step = 1;\n",
       "        } else {\n",
       "            event.step = -1;\n",
       "        }\n",
       "        on_mouse_event_closure('scroll')(event);\n",
       "    });\n",
       "\n",
       "    canvas_div.appendChild(canvas);\n",
       "    canvas_div.appendChild(rubberband_canvas);\n",
       "\n",
       "    this.rubberband_context = rubberband_canvas.getContext('2d');\n",
       "    this.rubberband_context.strokeStyle = '#000000';\n",
       "\n",
       "    this._resize_canvas = function (width, height, forward) {\n",
       "        if (forward) {\n",
       "            canvas_div.style.width = width + 'px';\n",
       "            canvas_div.style.height = height + 'px';\n",
       "        }\n",
       "    };\n",
       "\n",
       "    // Disable right mouse context menu.\n",
       "    this.rubberband_canvas.addEventListener('contextmenu', function (_e) {\n",
       "        event.preventDefault();\n",
       "        return false;\n",
       "    });\n",
       "\n",
       "    function set_focus() {\n",
       "        canvas.focus();\n",
       "        canvas_div.focus();\n",
       "    }\n",
       "\n",
       "    window.setTimeout(set_focus, 100);\n",
       "};\n",
       "\n",
       "mpl.figure.prototype._init_toolbar = function () {\n",
       "    var fig = this;\n",
       "\n",
       "    var toolbar = document.createElement('div');\n",
       "    toolbar.classList = 'mpl-toolbar';\n",
       "    this.root.appendChild(toolbar);\n",
       "\n",
       "    function on_click_closure(name) {\n",
       "        return function (_event) {\n",
       "            return fig.toolbar_button_onclick(name);\n",
       "        };\n",
       "    }\n",
       "\n",
       "    function on_mouseover_closure(tooltip) {\n",
       "        return function (event) {\n",
       "            if (!event.currentTarget.disabled) {\n",
       "                return fig.toolbar_button_onmouseover(tooltip);\n",
       "            }\n",
       "        };\n",
       "    }\n",
       "\n",
       "    fig.buttons = {};\n",
       "    var buttonGroup = document.createElement('div');\n",
       "    buttonGroup.classList = 'mpl-button-group';\n",
       "    for (var toolbar_ind in mpl.toolbar_items) {\n",
       "        var name = mpl.toolbar_items[toolbar_ind][0];\n",
       "        var tooltip = mpl.toolbar_items[toolbar_ind][1];\n",
       "        var image = mpl.toolbar_items[toolbar_ind][2];\n",
       "        var method_name = mpl.toolbar_items[toolbar_ind][3];\n",
       "\n",
       "        if (!name) {\n",
       "            /* Instead of a spacer, we start a new button group. */\n",
       "            if (buttonGroup.hasChildNodes()) {\n",
       "                toolbar.appendChild(buttonGroup);\n",
       "            }\n",
       "            buttonGroup = document.createElement('div');\n",
       "            buttonGroup.classList = 'mpl-button-group';\n",
       "            continue;\n",
       "        }\n",
       "\n",
       "        var button = (fig.buttons[name] = document.createElement('button'));\n",
       "        button.classList = 'mpl-widget';\n",
       "        button.setAttribute('role', 'button');\n",
       "        button.setAttribute('aria-disabled', 'false');\n",
       "        button.addEventListener('click', on_click_closure(method_name));\n",
       "        button.addEventListener('mouseover', on_mouseover_closure(tooltip));\n",
       "\n",
       "        var icon_img = document.createElement('img');\n",
       "        icon_img.src = '_images/' + image + '.png';\n",
       "        icon_img.srcset = '_images/' + image + '_large.png 2x';\n",
       "        icon_img.alt = tooltip;\n",
       "        button.appendChild(icon_img);\n",
       "\n",
       "        buttonGroup.appendChild(button);\n",
       "    }\n",
       "\n",
       "    if (buttonGroup.hasChildNodes()) {\n",
       "        toolbar.appendChild(buttonGroup);\n",
       "    }\n",
       "\n",
       "    var fmt_picker = document.createElement('select');\n",
       "    fmt_picker.classList = 'mpl-widget';\n",
       "    toolbar.appendChild(fmt_picker);\n",
       "    this.format_dropdown = fmt_picker;\n",
       "\n",
       "    for (var ind in mpl.extensions) {\n",
       "        var fmt = mpl.extensions[ind];\n",
       "        var option = document.createElement('option');\n",
       "        option.selected = fmt === mpl.default_extension;\n",
       "        option.innerHTML = fmt;\n",
       "        fmt_picker.appendChild(option);\n",
       "    }\n",
       "\n",
       "    var status_bar = document.createElement('span');\n",
       "    status_bar.classList = 'mpl-message';\n",
       "    toolbar.appendChild(status_bar);\n",
       "    this.message = status_bar;\n",
       "};\n",
       "\n",
       "mpl.figure.prototype.request_resize = function (x_pixels, y_pixels) {\n",
       "    // Request matplotlib to resize the figure. Matplotlib will then trigger a resize in the client,\n",
       "    // which will in turn request a refresh of the image.\n",
       "    this.send_message('resize', { width: x_pixels, height: y_pixels });\n",
       "};\n",
       "\n",
       "mpl.figure.prototype.send_message = function (type, properties) {\n",
       "    properties['type'] = type;\n",
       "    properties['figure_id'] = this.id;\n",
       "    this.ws.send(JSON.stringify(properties));\n",
       "};\n",
       "\n",
       "mpl.figure.prototype.send_draw_message = function () {\n",
       "    if (!this.waiting) {\n",
       "        this.waiting = true;\n",
       "        this.ws.send(JSON.stringify({ type: 'draw', figure_id: this.id }));\n",
       "    }\n",
       "};\n",
       "\n",
       "mpl.figure.prototype.handle_save = function (fig, _msg) {\n",
       "    var format_dropdown = fig.format_dropdown;\n",
       "    var format = format_dropdown.options[format_dropdown.selectedIndex].value;\n",
       "    fig.ondownload(fig, format);\n",
       "};\n",
       "\n",
       "mpl.figure.prototype.handle_resize = function (fig, msg) {\n",
       "    var size = msg['size'];\n",
       "    if (size[0] !== fig.canvas.width || size[1] !== fig.canvas.height) {\n",
       "        fig._resize_canvas(size[0], size[1], msg['forward']);\n",
       "        fig.send_message('refresh', {});\n",
       "    }\n",
       "};\n",
       "\n",
       "mpl.figure.prototype.handle_rubberband = function (fig, msg) {\n",
       "    var x0 = msg['x0'] / mpl.ratio;\n",
       "    var y0 = (fig.canvas.height - msg['y0']) / mpl.ratio;\n",
       "    var x1 = msg['x1'] / mpl.ratio;\n",
       "    var y1 = (fig.canvas.height - msg['y1']) / mpl.ratio;\n",
       "    x0 = Math.floor(x0) + 0.5;\n",
       "    y0 = Math.floor(y0) + 0.5;\n",
       "    x1 = Math.floor(x1) + 0.5;\n",
       "    y1 = Math.floor(y1) + 0.5;\n",
       "    var min_x = Math.min(x0, x1);\n",
       "    var min_y = Math.min(y0, y1);\n",
       "    var width = Math.abs(x1 - x0);\n",
       "    var height = Math.abs(y1 - y0);\n",
       "\n",
       "    fig.rubberband_context.clearRect(\n",
       "        0,\n",
       "        0,\n",
       "        fig.canvas.width / mpl.ratio,\n",
       "        fig.canvas.height / mpl.ratio\n",
       "    );\n",
       "\n",
       "    fig.rubberband_context.strokeRect(min_x, min_y, width, height);\n",
       "};\n",
       "\n",
       "mpl.figure.prototype.handle_figure_label = function (fig, msg) {\n",
       "    // Updates the figure title.\n",
       "    fig.header.textContent = msg['label'];\n",
       "};\n",
       "\n",
       "mpl.figure.prototype.handle_cursor = function (fig, msg) {\n",
       "    var cursor = msg['cursor'];\n",
       "    switch (cursor) {\n",
       "        case 0:\n",
       "            cursor = 'pointer';\n",
       "            break;\n",
       "        case 1:\n",
       "            cursor = 'default';\n",
       "            break;\n",
       "        case 2:\n",
       "            cursor = 'crosshair';\n",
       "            break;\n",
       "        case 3:\n",
       "            cursor = 'move';\n",
       "            break;\n",
       "    }\n",
       "    fig.rubberband_canvas.style.cursor = cursor;\n",
       "};\n",
       "\n",
       "mpl.figure.prototype.handle_message = function (fig, msg) {\n",
       "    fig.message.textContent = msg['message'];\n",
       "};\n",
       "\n",
       "mpl.figure.prototype.handle_draw = function (fig, _msg) {\n",
       "    // Request the server to send over a new figure.\n",
       "    fig.send_draw_message();\n",
       "};\n",
       "\n",
       "mpl.figure.prototype.handle_image_mode = function (fig, msg) {\n",
       "    fig.image_mode = msg['mode'];\n",
       "};\n",
       "\n",
       "mpl.figure.prototype.handle_history_buttons = function (fig, msg) {\n",
       "    for (var key in msg) {\n",
       "        if (!(key in fig.buttons)) {\n",
       "            continue;\n",
       "        }\n",
       "        fig.buttons[key].disabled = !msg[key];\n",
       "        fig.buttons[key].setAttribute('aria-disabled', !msg[key]);\n",
       "    }\n",
       "};\n",
       "\n",
       "mpl.figure.prototype.handle_navigate_mode = function (fig, msg) {\n",
       "    if (msg['mode'] === 'PAN') {\n",
       "        fig.buttons['Pan'].classList.add('active');\n",
       "        fig.buttons['Zoom'].classList.remove('active');\n",
       "    } else if (msg['mode'] === 'ZOOM') {\n",
       "        fig.buttons['Pan'].classList.remove('active');\n",
       "        fig.buttons['Zoom'].classList.add('active');\n",
       "    } else {\n",
       "        fig.buttons['Pan'].classList.remove('active');\n",
       "        fig.buttons['Zoom'].classList.remove('active');\n",
       "    }\n",
       "};\n",
       "\n",
       "mpl.figure.prototype.updated_canvas_event = function () {\n",
       "    // Called whenever the canvas gets updated.\n",
       "    this.send_message('ack', {});\n",
       "};\n",
       "\n",
       "// A function to construct a web socket function for onmessage handling.\n",
       "// Called in the figure constructor.\n",
       "mpl.figure.prototype._make_on_message_function = function (fig) {\n",
       "    return function socket_on_message(evt) {\n",
       "        if (evt.data instanceof Blob) {\n",
       "            /* FIXME: We get \"Resource interpreted as Image but\n",
       "             * transferred with MIME type text/plain:\" errors on\n",
       "             * Chrome.  But how to set the MIME type?  It doesn't seem\n",
       "             * to be part of the websocket stream */\n",
       "            evt.data.type = 'image/png';\n",
       "\n",
       "            /* Free the memory for the previous frames */\n",
       "            if (fig.imageObj.src) {\n",
       "                (window.URL || window.webkitURL).revokeObjectURL(\n",
       "                    fig.imageObj.src\n",
       "                );\n",
       "            }\n",
       "\n",
       "            fig.imageObj.src = (window.URL || window.webkitURL).createObjectURL(\n",
       "                evt.data\n",
       "            );\n",
       "            fig.updated_canvas_event();\n",
       "            fig.waiting = false;\n",
       "            return;\n",
       "        } else if (\n",
       "            typeof evt.data === 'string' &&\n",
       "            evt.data.slice(0, 21) === 'data:image/png;base64'\n",
       "        ) {\n",
       "            fig.imageObj.src = evt.data;\n",
       "            fig.updated_canvas_event();\n",
       "            fig.waiting = false;\n",
       "            return;\n",
       "        }\n",
       "\n",
       "        var msg = JSON.parse(evt.data);\n",
       "        var msg_type = msg['type'];\n",
       "\n",
       "        // Call the  \"handle_{type}\" callback, which takes\n",
       "        // the figure and JSON message as its only arguments.\n",
       "        try {\n",
       "            var callback = fig['handle_' + msg_type];\n",
       "        } catch (e) {\n",
       "            console.log(\n",
       "                \"No handler for the '\" + msg_type + \"' message type: \",\n",
       "                msg\n",
       "            );\n",
       "            return;\n",
       "        }\n",
       "\n",
       "        if (callback) {\n",
       "            try {\n",
       "                // console.log(\"Handling '\" + msg_type + \"' message: \", msg);\n",
       "                callback(fig, msg);\n",
       "            } catch (e) {\n",
       "                console.log(\n",
       "                    \"Exception inside the 'handler_\" + msg_type + \"' callback:\",\n",
       "                    e,\n",
       "                    e.stack,\n",
       "                    msg\n",
       "                );\n",
       "            }\n",
       "        }\n",
       "    };\n",
       "};\n",
       "\n",
       "// from http://stackoverflow.com/questions/1114465/getting-mouse-location-in-canvas\n",
       "mpl.findpos = function (e) {\n",
       "    //this section is from http://www.quirksmode.org/js/events_properties.html\n",
       "    var targ;\n",
       "    if (!e) {\n",
       "        e = window.event;\n",
       "    }\n",
       "    if (e.target) {\n",
       "        targ = e.target;\n",
       "    } else if (e.srcElement) {\n",
       "        targ = e.srcElement;\n",
       "    }\n",
       "    if (targ.nodeType === 3) {\n",
       "        // defeat Safari bug\n",
       "        targ = targ.parentNode;\n",
       "    }\n",
       "\n",
       "    // pageX,Y are the mouse positions relative to the document\n",
       "    var boundingRect = targ.getBoundingClientRect();\n",
       "    var x = e.pageX - (boundingRect.left + document.body.scrollLeft);\n",
       "    var y = e.pageY - (boundingRect.top + document.body.scrollTop);\n",
       "\n",
       "    return { x: x, y: y };\n",
       "};\n",
       "\n",
       "/*\n",
       " * return a copy of an object with only non-object keys\n",
       " * we need this to avoid circular references\n",
       " * http://stackoverflow.com/a/24161582/3208463\n",
       " */\n",
       "function simpleKeys(original) {\n",
       "    return Object.keys(original).reduce(function (obj, key) {\n",
       "        if (typeof original[key] !== 'object') {\n",
       "            obj[key] = original[key];\n",
       "        }\n",
       "        return obj;\n",
       "    }, {});\n",
       "}\n",
       "\n",
       "mpl.figure.prototype.mouse_event = function (event, name) {\n",
       "    var canvas_pos = mpl.findpos(event);\n",
       "\n",
       "    if (name === 'button_press') {\n",
       "        this.canvas.focus();\n",
       "        this.canvas_div.focus();\n",
       "    }\n",
       "\n",
       "    var x = canvas_pos.x * mpl.ratio;\n",
       "    var y = canvas_pos.y * mpl.ratio;\n",
       "\n",
       "    this.send_message(name, {\n",
       "        x: x,\n",
       "        y: y,\n",
       "        button: event.button,\n",
       "        step: event.step,\n",
       "        guiEvent: simpleKeys(event),\n",
       "    });\n",
       "\n",
       "    /* This prevents the web browser from automatically changing to\n",
       "     * the text insertion cursor when the button is pressed.  We want\n",
       "     * to control all of the cursor setting manually through the\n",
       "     * 'cursor' event from matplotlib */\n",
       "    event.preventDefault();\n",
       "    return false;\n",
       "};\n",
       "\n",
       "mpl.figure.prototype._key_event_extra = function (_event, _name) {\n",
       "    // Handle any extra behaviour associated with a key event\n",
       "};\n",
       "\n",
       "mpl.figure.prototype.key_event = function (event, name) {\n",
       "    // Prevent repeat events\n",
       "    if (name === 'key_press') {\n",
       "        if (event.which === this._key) {\n",
       "            return;\n",
       "        } else {\n",
       "            this._key = event.which;\n",
       "        }\n",
       "    }\n",
       "    if (name === 'key_release') {\n",
       "        this._key = null;\n",
       "    }\n",
       "\n",
       "    var value = '';\n",
       "    if (event.ctrlKey && event.which !== 17) {\n",
       "        value += 'ctrl+';\n",
       "    }\n",
       "    if (event.altKey && event.which !== 18) {\n",
       "        value += 'alt+';\n",
       "    }\n",
       "    if (event.shiftKey && event.which !== 16) {\n",
       "        value += 'shift+';\n",
       "    }\n",
       "\n",
       "    value += 'k';\n",
       "    value += event.which.toString();\n",
       "\n",
       "    this._key_event_extra(event, name);\n",
       "\n",
       "    this.send_message(name, { key: value, guiEvent: simpleKeys(event) });\n",
       "    return false;\n",
       "};\n",
       "\n",
       "mpl.figure.prototype.toolbar_button_onclick = function (name) {\n",
       "    if (name === 'download') {\n",
       "        this.handle_save(this, null);\n",
       "    } else {\n",
       "        this.send_message('toolbar_button', { name: name });\n",
       "    }\n",
       "};\n",
       "\n",
       "mpl.figure.prototype.toolbar_button_onmouseover = function (tooltip) {\n",
       "    this.message.textContent = tooltip;\n",
       "};\n",
       "mpl.toolbar_items = [[\"Home\", \"Reset original view\", \"fa fa-home icon-home\", \"home\"], [\"Back\", \"Back to previous view\", \"fa fa-arrow-left icon-arrow-left\", \"back\"], [\"Forward\", \"Forward to next view\", \"fa fa-arrow-right icon-arrow-right\", \"forward\"], [\"\", \"\", \"\", \"\"], [\"Pan\", \"Left button pans, Right button zooms\\nx/y fixes axis, CTRL fixes aspect\", \"fa fa-arrows icon-move\", \"pan\"], [\"Zoom\", \"Zoom to rectangle\\nx/y fixes axis, CTRL fixes aspect\", \"fa fa-square-o icon-check-empty\", \"zoom\"], [\"\", \"\", \"\", \"\"], [\"Download\", \"Download plot\", \"fa fa-floppy-o icon-save\", \"download\"]];\n",
       "\n",
       "mpl.extensions = [\"eps\", \"jpeg\", \"pdf\", \"png\", \"ps\", \"raw\", \"svg\", \"tif\"];\n",
       "\n",
       "mpl.default_extension = \"png\";/* global mpl */\n",
       "\n",
       "var comm_websocket_adapter = function (comm) {\n",
       "    // Create a \"websocket\"-like object which calls the given IPython comm\n",
       "    // object with the appropriate methods. Currently this is a non binary\n",
       "    // socket, so there is still some room for performance tuning.\n",
       "    var ws = {};\n",
       "\n",
       "    ws.close = function () {\n",
       "        comm.close();\n",
       "    };\n",
       "    ws.send = function (m) {\n",
       "        //console.log('sending', m);\n",
       "        comm.send(m);\n",
       "    };\n",
       "    // Register the callback with on_msg.\n",
       "    comm.on_msg(function (msg) {\n",
       "        //console.log('receiving', msg['content']['data'], msg);\n",
       "        // Pass the mpl event to the overridden (by mpl) onmessage function.\n",
       "        ws.onmessage(msg['content']['data']);\n",
       "    });\n",
       "    return ws;\n",
       "};\n",
       "\n",
       "mpl.mpl_figure_comm = function (comm, msg) {\n",
       "    // This is the function which gets called when the mpl process\n",
       "    // starts-up an IPython Comm through the \"matplotlib\" channel.\n",
       "\n",
       "    var id = msg.content.data.id;\n",
       "    // Get hold of the div created by the display call when the Comm\n",
       "    // socket was opened in Python.\n",
       "    var element = document.getElementById(id);\n",
       "    var ws_proxy = comm_websocket_adapter(comm);\n",
       "\n",
       "    function ondownload(figure, _format) {\n",
       "        window.open(figure.canvas.toDataURL());\n",
       "    }\n",
       "\n",
       "    var fig = new mpl.figure(id, ws_proxy, ondownload, element);\n",
       "\n",
       "    // Call onopen now - mpl needs it, as it is assuming we've passed it a real\n",
       "    // web socket which is closed, not our websocket->open comm proxy.\n",
       "    ws_proxy.onopen();\n",
       "\n",
       "    fig.parent_element = element;\n",
       "    fig.cell_info = mpl.find_output_cell(\"<div id='\" + id + \"'></div>\");\n",
       "    if (!fig.cell_info) {\n",
       "        console.error('Failed to find cell for figure', id, fig);\n",
       "        return;\n",
       "    }\n",
       "};\n",
       "\n",
       "mpl.figure.prototype.handle_close = function (fig, msg) {\n",
       "    var width = fig.canvas.width / mpl.ratio;\n",
       "    fig.root.removeEventListener('remove', this._remove_fig_handler);\n",
       "\n",
       "    // Update the output cell to use the data from the current canvas.\n",
       "    fig.push_to_output();\n",
       "    var dataURL = fig.canvas.toDataURL();\n",
       "    // Re-enable the keyboard manager in IPython - without this line, in FF,\n",
       "    // the notebook keyboard shortcuts fail.\n",
       "    IPython.keyboard_manager.enable();\n",
       "    fig.parent_element.innerHTML =\n",
       "        '<img src=\"' + dataURL + '\" width=\"' + width + '\">';\n",
       "    fig.close_ws(fig, msg);\n",
       "};\n",
       "\n",
       "mpl.figure.prototype.close_ws = function (fig, msg) {\n",
       "    fig.send_message('closing', msg);\n",
       "    // fig.ws.close()\n",
       "};\n",
       "\n",
       "mpl.figure.prototype.push_to_output = function (_remove_interactive) {\n",
       "    // Turn the data on the canvas into data in the output cell.\n",
       "    var width = this.canvas.width / mpl.ratio;\n",
       "    var dataURL = this.canvas.toDataURL();\n",
       "    this.cell_info[1]['text/html'] =\n",
       "        '<img src=\"' + dataURL + '\" width=\"' + width + '\">';\n",
       "};\n",
       "\n",
       "mpl.figure.prototype.updated_canvas_event = function () {\n",
       "    // Tell IPython that the notebook contents must change.\n",
       "    IPython.notebook.set_dirty(true);\n",
       "    this.send_message('ack', {});\n",
       "    var fig = this;\n",
       "    // Wait a second, then push the new image to the DOM so\n",
       "    // that it is saved nicely (might be nice to debounce this).\n",
       "    setTimeout(function () {\n",
       "        fig.push_to_output();\n",
       "    }, 1000);\n",
       "};\n",
       "\n",
       "mpl.figure.prototype._init_toolbar = function () {\n",
       "    var fig = this;\n",
       "\n",
       "    var toolbar = document.createElement('div');\n",
       "    toolbar.classList = 'btn-toolbar';\n",
       "    this.root.appendChild(toolbar);\n",
       "\n",
       "    function on_click_closure(name) {\n",
       "        return function (_event) {\n",
       "            return fig.toolbar_button_onclick(name);\n",
       "        };\n",
       "    }\n",
       "\n",
       "    function on_mouseover_closure(tooltip) {\n",
       "        return function (event) {\n",
       "            if (!event.currentTarget.disabled) {\n",
       "                return fig.toolbar_button_onmouseover(tooltip);\n",
       "            }\n",
       "        };\n",
       "    }\n",
       "\n",
       "    fig.buttons = {};\n",
       "    var buttonGroup = document.createElement('div');\n",
       "    buttonGroup.classList = 'btn-group';\n",
       "    var button;\n",
       "    for (var toolbar_ind in mpl.toolbar_items) {\n",
       "        var name = mpl.toolbar_items[toolbar_ind][0];\n",
       "        var tooltip = mpl.toolbar_items[toolbar_ind][1];\n",
       "        var image = mpl.toolbar_items[toolbar_ind][2];\n",
       "        var method_name = mpl.toolbar_items[toolbar_ind][3];\n",
       "\n",
       "        if (!name) {\n",
       "            /* Instead of a spacer, we start a new button group. */\n",
       "            if (buttonGroup.hasChildNodes()) {\n",
       "                toolbar.appendChild(buttonGroup);\n",
       "            }\n",
       "            buttonGroup = document.createElement('div');\n",
       "            buttonGroup.classList = 'btn-group';\n",
       "            continue;\n",
       "        }\n",
       "\n",
       "        button = fig.buttons[name] = document.createElement('button');\n",
       "        button.classList = 'btn btn-default';\n",
       "        button.href = '#';\n",
       "        button.title = name;\n",
       "        button.innerHTML = '<i class=\"fa ' + image + ' fa-lg\"></i>';\n",
       "        button.addEventListener('click', on_click_closure(method_name));\n",
       "        button.addEventListener('mouseover', on_mouseover_closure(tooltip));\n",
       "        buttonGroup.appendChild(button);\n",
       "    }\n",
       "\n",
       "    if (buttonGroup.hasChildNodes()) {\n",
       "        toolbar.appendChild(buttonGroup);\n",
       "    }\n",
       "\n",
       "    // Add the status bar.\n",
       "    var status_bar = document.createElement('span');\n",
       "    status_bar.classList = 'mpl-message pull-right';\n",
       "    toolbar.appendChild(status_bar);\n",
       "    this.message = status_bar;\n",
       "\n",
       "    // Add the close button to the window.\n",
       "    var buttongrp = document.createElement('div');\n",
       "    buttongrp.classList = 'btn-group inline pull-right';\n",
       "    button = document.createElement('button');\n",
       "    button.classList = 'btn btn-mini btn-primary';\n",
       "    button.href = '#';\n",
       "    button.title = 'Stop Interaction';\n",
       "    button.innerHTML = '<i class=\"fa fa-power-off icon-remove icon-large\"></i>';\n",
       "    button.addEventListener('click', function (_evt) {\n",
       "        fig.handle_close(fig, {});\n",
       "    });\n",
       "    button.addEventListener(\n",
       "        'mouseover',\n",
       "        on_mouseover_closure('Stop Interaction')\n",
       "    );\n",
       "    buttongrp.appendChild(button);\n",
       "    var titlebar = this.root.querySelector('.ui-dialog-titlebar');\n",
       "    titlebar.insertBefore(buttongrp, titlebar.firstChild);\n",
       "};\n",
       "\n",
       "mpl.figure.prototype._remove_fig_handler = function () {\n",
       "    this.close_ws(this, {});\n",
       "};\n",
       "\n",
       "mpl.figure.prototype._root_extra_style = function (el) {\n",
       "    el.style.boxSizing = 'content-box'; // override notebook setting of border-box.\n",
       "    el.addEventListener('remove', this._remove_fig_handler);\n",
       "};\n",
       "\n",
       "mpl.figure.prototype._canvas_extra_style = function (el) {\n",
       "    // this is important to make the div 'focusable\n",
       "    el.setAttribute('tabindex', 0);\n",
       "    // reach out to IPython and tell the keyboard manager to turn it's self\n",
       "    // off when our div gets focus\n",
       "\n",
       "    // location in version 3\n",
       "    if (IPython.notebook.keyboard_manager) {\n",
       "        IPython.notebook.keyboard_manager.register_events(el);\n",
       "    } else {\n",
       "        // location in version 2\n",
       "        IPython.keyboard_manager.register_events(el);\n",
       "    }\n",
       "};\n",
       "\n",
       "mpl.figure.prototype._key_event_extra = function (event, _name) {\n",
       "    var manager = IPython.notebook.keyboard_manager;\n",
       "    if (!manager) {\n",
       "        manager = IPython.keyboard_manager;\n",
       "    }\n",
       "\n",
       "    // Check for shift+enter\n",
       "    if (event.shiftKey && event.which === 13) {\n",
       "        this.canvas_div.blur();\n",
       "        // select the cell after this one\n",
       "        var index = IPython.notebook.find_cell_index(this.cell_info[0]);\n",
       "        IPython.notebook.select(index + 1);\n",
       "    }\n",
       "};\n",
       "\n",
       "mpl.figure.prototype.handle_save = function (fig, _msg) {\n",
       "    fig.ondownload(fig, null);\n",
       "};\n",
       "\n",
       "mpl.find_output_cell = function (html_output) {\n",
       "    // Return the cell and output element which can be found *uniquely* in the notebook.\n",
       "    // Note - this is a bit hacky, but it is done because the \"notebook_saving.Notebook\"\n",
       "    // IPython event is triggered only after the cells have been serialised, which for\n",
       "    // our purposes (turning an active figure into a static one), is too late.\n",
       "    var cells = IPython.notebook.get_cells();\n",
       "    var ncells = cells.length;\n",
       "    for (var i = 0; i < ncells; i++) {\n",
       "        var cell = cells[i];\n",
       "        if (cell.cell_type === 'code') {\n",
       "            for (var j = 0; j < cell.output_area.outputs.length; j++) {\n",
       "                var data = cell.output_area.outputs[j];\n",
       "                if (data.data) {\n",
       "                    // IPython >= 3 moved mimebundle to data attribute of output\n",
       "                    data = data.data;\n",
       "                }\n",
       "                if (data['text/html'] === html_output) {\n",
       "                    return [cell, data, j];\n",
       "                }\n",
       "            }\n",
       "        }\n",
       "    }\n",
       "};\n",
       "\n",
       "// Register the function which deals with the matplotlib target/channel.\n",
       "// The kernel may be null if the page has been refreshed.\n",
       "if (IPython.notebook.kernel !== null) {\n",
       "    IPython.notebook.kernel.comm_manager.register_target(\n",
       "        'matplotlib',\n",
       "        mpl.mpl_figure_comm\n",
       "    );\n",
       "}\n"
      ],
      "text/plain": [
       "<IPython.core.display.Javascript object>"
      ]
     },
     "metadata": {},
     "output_type": "display_data"
    },
    {
     "data": {
      "text/html": [
       "<img src=\"data:image/png;base64,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\" width=\"640\">"
      ],
      "text/plain": [
       "<IPython.core.display.HTML object>"
      ]
     },
     "metadata": {},
     "output_type": "display_data"
    },
    {
     "data": {
      "text/plain": [
       "<mpl_toolkits.mplot3d.art3d.Path3DCollection at 0x7f57f55d2748>"
      ]
     },
     "execution_count": 32,
     "metadata": {},
     "output_type": "execute_result"
    }
   ],
   "source": [
    "from mpl_toolkits.mplot3d import Axes3D\n",
    "%matplotlib notebook\n",
    "fig = plt.figure()\n",
    "ax = fig.add_subplot(111, projection='3d')\n",
    "\n",
    "ax.scatter(x[:,0], x[:,1], y)\n",
    "ax.scatter(x[:,0], x[:,1], predictions)"
   ]
  },
  {
   "cell_type": "code",
   "execution_count": null,
   "metadata": {},
   "outputs": [],
   "source": []
  }
 ],
 "metadata": {
  "kernelspec": {
   "display_name": "Python 3",
   "language": "python",
   "name": "python3"
  },
  "language_info": {
   "codemirror_mode": {
    "name": "ipython",
    "version": 3
   },
   "file_extension": ".py",
   "mimetype": "text/x-python",
   "name": "python",
   "nbconvert_exporter": "python",
   "pygments_lexer": "ipython3",
   "version": "3.6.9"
  }
 },
 "nbformat": 4,
 "nbformat_minor": 2
}
