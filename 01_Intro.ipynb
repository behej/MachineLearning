{
 "cells": [
  {
   "cell_type": "markdown",
   "metadata": {},
   "source": [
    "# Types d'apprentissage\n",
    "* Apprentissage supervisé: On définit un modèle que l'on va entrainer sur le dataset. Un fois entrainé, le modèle est capable de calculer la valeur y à partir d'un ensemble de features X. Modèle: y = F(X)"
   ]
  },
  {
   "cell_type": "markdown",
   "metadata": {},
   "source": [
    "# Définitions\n",
    "* Dataset: ensemble des données à traiter\n",
    "* Features: caractéristiques du dataset - Notation X\n",
    "* Target: Valeur cible du dataset - Notation y\n",
    "* _m_: Nombre d'entrées dans le dataset\n",
    "* _n_: Nombre de features\n",
    "* Fonction coût: Erreur calculée entre les prédictions du modèle et les valeurs du dataset. On cherche à obtenir la fonction coût la plus faible possible.\n",
    "* paramètres: paramètres du modèle. a et b pour une fonction affine ax+b, a, b et c pour une fonction polynomiale ax²+bx+c\n",
    "* Algorithme de minimisation: algorithme qui va faire évoluer les paramètres du modèle pour obtenir la fonction coût la plus faible. Ex: descente de gradient\n",
    "* \n",
    "\n"
   ]
  },
  {
   "cell_type": "markdown",
   "metadata": {},
   "source": [
    "# Explication du principe pour une regression linéaire\n",
    "## Dataset\n",
    "* Ensemble de points (x, y)\n",
    "* target = coordonnées y\n",
    "* features = coordonnées x\n",
    "* n = 1 (seulement la coordonnée x)\n",
    "* m = le nombre de points dans le datasets\n",
    "\n",
    "## Modèle\n",
    "* modèle choisi: F(x) = ax+b\n",
    "* paramètres du modèle: a & b\n",
    "\n",
    "## Fonction coût\n",
    "* Erreur quadratique moyenne (mean square error)\n",
    "$$J(a,b) = \\frac{1}{2m} \\sum_{i=1}^{m} (f(x_i) - y_i)^2$$\n",
    "\n",
    "## Minimisation\n",
    "* Trouver les valeurs de a et b pour lesquelles la fonction coût est la plus faible\n",
    "* Méthode des moindres carrés\n",
    "  * Qui consiste à calculé la dérivée partielle de J par rapport à _a_ et de trouver quand elle s'annule. On recommence pour _b_.\n",
    "* Descendre de gradient\n",
    "  * Méthode populaire qui fonctionne par itérations successives\n",
    "\n",
    "\n"
   ]
  },
  {
   "cell_type": "markdown",
   "metadata": {},
   "source": [
    "# Descente de gradient\n",
    "* On commence par choisir des paramètres a & b au hasard\n",
    "* On calcule la pente: la dérivée par rapport au paramètres a & b\n",
    "* On met à jour les paramètres a et b\n",
    "$$a_{i+1} = a_i - \\alpha \\frac {\\partial J(a_i)}{\\partial a}$$\n",
    "$$b_{i+1} = b_i - \\alpha \\frac {\\partial J(b_i)}{\\partial b}$$\n",
    "  * alpha: learning rate\n",
    "* On recommence jusqu'à ce que la fonction coût atteigne le mini"
   ]
  },
  {
   "cell_type": "markdown",
   "metadata": {},
   "source": [
    "# Version matrices\n",
    "## Modèle\n",
    "$$F=X \\cdot \\theta$$\n",
    "avec\n",
    "$$\n",
    "X\n",
    "=\n",
    "\\begin{bmatrix}\n",
    "x^{(1)} & 1 \\\\\n",
    "\\vdots & \\vdots \\\\\n",
    "x^{(m)} & 1\n",
    "\\end{bmatrix}\n",
    "$$\n",
    "$$\\theta =\n",
    "\\begin{bmatrix}\n",
    "a & b\n",
    "\\end{bmatrix}\n",
    "$$\n",
    "La colonne de 1 dans la matrice X est appelée *biais*\n",
    "\n",
    "## Fonction coût\n",
    "$$J(\\theta) = \\frac {1} {2m} \\sum (X \\theta - Y)^2$$\n",
    "\n",
    "## Descendre de gradient\n",
    "$$\n",
    "\\frac {\\partial J(\\theta)} {\\partial \\theta}\n",
    "=\n",
    "\\frac {1}{m}X^T(X\\theta-Y)\n",
    "$$\n",
    "$$\\theta=\n",
    "\\theta - \\alpha\\frac{\\partial J}{\\partial\\theta}\n",
    "$$\n",
    "\n",
    "## Equations de degrés supérieurs\n",
    "Ces formules fonctionnent également pour des fonctions de degrés supérieurs (ax²+bx+c, etc.).\n",
    "Seules les dimensions des matrices changent\n",
    "* Ne pas oublier de rajouter la colonne de biais dans la matrice X"
   ]
  }
 ],
 "metadata": {
  "kernelspec": {
   "display_name": "Python 3",
   "language": "python",
   "name": "python3"
  },
  "language_info": {
   "codemirror_mode": {
    "name": "ipython",
    "version": 3
   },
   "file_extension": ".py",
   "mimetype": "text/x-python",
   "name": "python",
   "nbconvert_exporter": "python",
   "pygments_lexer": "ipython3",
   "version": "3.6.9"
  }
 },
 "nbformat": 4,
 "nbformat_minor": 2
}
